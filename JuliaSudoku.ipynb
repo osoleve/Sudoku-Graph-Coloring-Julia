{
 "cells": [
  {
   "cell_type": "code",
   "execution_count": 1,
   "metadata": {},
   "outputs": [],
   "source": [
    "#Pkg.add(\"Combinatorics\")\n",
    "#Pkg.add(\"Pipe\")\n",
    "#Pkg.add(\"Lazy\")"
   ]
  },
  {
   "cell_type": "code",
   "execution_count": 2,
   "metadata": {},
   "outputs": [],
   "source": [
    "using Combinatorics\n",
    "using Lazy: map, filter, any, all, @as, @>, @>>\n",
    "using Base.Iterators: flatten, product"
   ]
  },
  {
   "cell_type": "code",
   "execution_count": 3,
   "metadata": {},
   "outputs": [],
   "source": [
    "abstract type Node end"
   ]
  },
  {
   "cell_type": "code",
   "execution_count": 4,
   "metadata": {},
   "outputs": [],
   "source": [
    "mutable struct SudokuNode <: Node\n",
    "    coordinates::Tuple{Int,Int}\n",
    "    cell::Int\n",
    "    value::Int\n",
    "    \n",
    "    possible_values::Vector{Int}\n",
    "    \n",
    "    function Node(coordinates::Tuple{Int,Int})\n",
    "        return new(coordinates,0,0,[])\n",
    "    end\n",
    "end"
   ]
  },
  {
   "cell_type": "code",
   "execution_count": 5,
   "metadata": {},
   "outputs": [
    {
     "data": {
      "text/plain": [
       "get_coordinates (generic function with 1 method)"
      ]
     },
     "execution_count": 5,
     "metadata": {},
     "output_type": "execute_result"
    }
   ],
   "source": [
    "function get_coordinates(node::SudokuNode)::Tuple{Int,Int,Int}\n",
    "    return (node.coordinates..., node.cell)\n",
    "end"
   ]
  },
  {
   "cell_type": "code",
   "execution_count": 6,
   "metadata": {},
   "outputs": [],
   "source": [
    "function Base.isequal(a::SudokuNode,b::SudokuNode)::Bool\n",
    "    a,b = get_coordinates.((a,b))\n",
    "    return all(a.==b)\n",
    "end"
   ]
  },
  {
   "cell_type": "code",
   "execution_count": 7,
   "metadata": {},
   "outputs": [
    {
     "data": {
      "text/plain": [
       "set_cell! (generic function with 1 method)"
      ]
     },
     "execution_count": 7,
     "metadata": {},
     "output_type": "execute_result"
    }
   ],
   "source": [
    "function set_cell!(node::SudokuNode, size::Int)::SudokuNode\n",
    "    row, col = node.coordinates .- 1\n",
    "    node.cell = 1 + floor(((col//size) + row) - (row%size))\n",
    "    return node\n",
    "end"
   ]
  },
  {
   "cell_type": "code",
   "execution_count": 8,
   "metadata": {},
   "outputs": [
    {
     "data": {
      "text/plain": [
       "get_value (generic function with 1 method)"
      ]
     },
     "execution_count": 8,
     "metadata": {},
     "output_type": "execute_result"
    }
   ],
   "source": [
    "function get_value(node::SudokuNode)::Int\n",
    "    return node.value\n",
    "end"
   ]
  },
  {
   "cell_type": "code",
   "execution_count": 9,
   "metadata": {},
   "outputs": [],
   "source": [
    "struct Edge\n",
    "    nodes::Tuple{SudokuNode,SudokuNode}\n",
    "    \n",
    "    function Edge(nodes::Vector{<:Node})\n",
    "        return new(tuple(nodes...))\n",
    "    end\n",
    "end"
   ]
  },
  {
   "cell_type": "code",
   "execution_count": 10,
   "metadata": {},
   "outputs": [
    {
     "data": {
      "text/plain": [
       "get_nodes (generic function with 2 methods)"
      ]
     },
     "execution_count": 10,
     "metadata": {},
     "output_type": "execute_result"
    }
   ],
   "source": [
    "function get_nodes(edge::Edge)::Vector{SudokuNode}\n",
    "    return collect(edge.nodes)\n",
    "end\n",
    "\n",
    "function get_nodes(edges::Array{Edge})::Vector{SudokuNode}\n",
    "    return get_nodes.(edges)\n",
    "end"
   ]
  },
  {
   "cell_type": "code",
   "execution_count": 11,
   "metadata": {},
   "outputs": [
    {
     "data": {
      "text/plain": [
       "are_adjacent (generic function with 1 method)"
      ]
     },
     "execution_count": 11,
     "metadata": {},
     "output_type": "execute_result"
    }
   ],
   "source": [
    "function are_adjacent(edge::Edge)::Bool\n",
    "    a,b = get_coordinates.(edge.nodes)\n",
    "    return any(a .== b)\n",
    "end"
   ]
  },
  {
   "cell_type": "code",
   "execution_count": 12,
   "metadata": {},
   "outputs": [],
   "source": [
    "function Base.in(node::SudokuNode, edge::Edge)::Bool\n",
    "    return any(isequal.(fill(node), edge.nodes))\n",
    "end"
   ]
  },
  {
   "cell_type": "code",
   "execution_count": 13,
   "metadata": {},
   "outputs": [
    {
     "data": {
      "text/plain": [
       "nodes_to_edges (generic function with 1 method)"
      ]
     },
     "execution_count": 13,
     "metadata": {},
     "output_type": "execute_result"
    }
   ],
   "source": [
    "function nodes_to_edges(nodes::Vector{SudokuNode})::Vector{Edge}\n",
    "    return @>> begin\n",
    "        combinations(nodes,2) \n",
    "        map(Edge) \n",
    "        filter(are_adjacent)\n",
    "    end\n",
    "end"
   ]
  },
  {
   "cell_type": "code",
   "execution_count": 14,
   "metadata": {},
   "outputs": [],
   "source": [
    "abstract type Graph end\n",
    "abstract type SimpleGraph <: Graph end"
   ]
  },
  {
   "cell_type": "code",
   "execution_count": 15,
   "metadata": {},
   "outputs": [],
   "source": [
    "mutable struct SudokuGraph <: SimpleGraph\n",
    "    nodes::Vector{SudokuNode}\n",
    "    edges::Vector{Edge}\n",
    "    \n",
    "    size::Int\n",
    "\n",
    "    function SudokuGraph(size::Int)        \n",
    "        #=\n",
    "        The node coordinates are (row, column, cell),\n",
    "        generated by creating the cartesian set of (row, col)\n",
    "        and then assigning the cell based on a formula.\n",
    "        =#\n",
    "        \n",
    "        nodes = @as x begin\n",
    "            1:size^2\n",
    "            product(x,x) \n",
    "            map(Node, x)\n",
    "            set_cell!.(x, size) \n",
    "            reshape(x, size^4)\n",
    "        end\n",
    "        \n",
    "        edges = nodes_to_edges(nodes)\n",
    "                \n",
    "        return new(nodes, edges, size)\n",
    "    end\n",
    "end"
   ]
  },
  {
   "cell_type": "code",
   "execution_count": 16,
   "metadata": {},
   "outputs": [
    {
     "data": {
      "text/plain": [
       "get_node (generic function with 1 method)"
      ]
     },
     "execution_count": 16,
     "metadata": {},
     "output_type": "execute_result"
    }
   ],
   "source": [
    "function get_node(coordinates::Tuple{Int,Int}, graph::SudokuGraph)::SudokuNode\n",
    "    return @>> begin \n",
    "        graph.nodes \n",
    "        filter(node -> node.coordinates == coordinates) \n",
    "        pop!\n",
    "    end\n",
    "end"
   ]
  },
  {
   "cell_type": "code",
   "execution_count": 17,
   "metadata": {},
   "outputs": [
    {
     "data": {
      "text/plain": [
       "get_neighbors (generic function with 1 method)"
      ]
     },
     "execution_count": 17,
     "metadata": {},
     "output_type": "execute_result"
    }
   ],
   "source": [
    "function get_neighbors(node::SudokuNode, graph::SudokuGraph)::Vector{SudokuNode}\n",
    "    return @>> graph.edges begin\n",
    "        filter(edge -> node in edge)\n",
    "        map(get_nodes)\n",
    "        flatten\n",
    "        collect\n",
    "        filter(x -> !isequal(node,x))\n",
    "    end\n",
    "end"
   ]
  },
  {
   "cell_type": "code",
   "execution_count": 18,
   "metadata": {},
   "outputs": [
    {
     "data": {
      "text/plain": [
       "get_saturated_values (generic function with 1 method)"
      ]
     },
     "execution_count": 18,
     "metadata": {},
     "output_type": "execute_result"
    }
   ],
   "source": [
    "function get_saturated_values(node::SudokuNode, graph::SudokuGraph)::Vector{Int}\n",
    "    return @>> begin\n",
    "        get_neighbors(node, graph)\n",
    "        filter(x -> x.value > 0)\n",
    "        get_value.()\n",
    "        unique\n",
    "    end\n",
    "end"
   ]
  },
  {
   "cell_type": "code",
   "execution_count": 19,
   "metadata": {},
   "outputs": [
    {
     "data": {
      "text/plain": [
       "get_saturation (generic function with 1 method)"
      ]
     },
     "execution_count": 19,
     "metadata": {},
     "output_type": "execute_result"
    }
   ],
   "source": [
    "function get_saturation(node::SudokuNode, graph::SudokuGraph)::Int\n",
    "    return get_saturated_values(node, graph) |> length\n",
    "end"
   ]
  },
  {
   "cell_type": "code",
   "execution_count": 20,
   "metadata": {},
   "outputs": [
    {
     "data": {
      "text/plain": [
       "get_possible_values (generic function with 1 method)"
      ]
     },
     "execution_count": 20,
     "metadata": {},
     "output_type": "execute_result"
    }
   ],
   "source": [
    "function get_possible_values(node::SudokuNode, graph::SudokuGraph)::Vector{Int}\n",
    "    sv = get_saturated_values(node, graph)\n",
    "    return collect(filter(x->x ∉ sv, 1:graph.size^2))  \n",
    "end"
   ]
  },
  {
   "cell_type": "code",
   "execution_count": 21,
   "metadata": {},
   "outputs": [
    {
     "data": {
      "text/plain": [
       "set_possible_values! (generic function with 1 method)"
      ]
     },
     "execution_count": 21,
     "metadata": {},
     "output_type": "execute_result"
    }
   ],
   "source": [
    "function set_possible_values!(node::SudokuNode, graph::SudokuGraph)::SudokuNode\n",
    "    node.possible_values = get_possible_values(node, graph)\n",
    "    return node\n",
    "end"
   ]
  },
  {
   "cell_type": "code",
   "execution_count": 22,
   "metadata": {},
   "outputs": [
    {
     "data": {
      "text/plain": [
       "eliminate_possibility! (generic function with 1 method)"
      ]
     },
     "execution_count": 22,
     "metadata": {},
     "output_type": "execute_result"
    }
   ],
   "source": [
    "function eliminate_possibility!(node::SudokuNode, value::Int)::SudokuNode\n",
    "    if value in node.possible_values\n",
    "        pop!(node.possible_values, value)\n",
    "    end\n",
    "    return node\n",
    "end"
   ]
  },
  {
   "cell_type": "code",
   "execution_count": 23,
   "metadata": {},
   "outputs": [
    {
     "data": {
      "text/plain": [
       "set_value! (generic function with 1 method)"
      ]
     },
     "execution_count": 23,
     "metadata": {},
     "output_type": "execute_result"
    }
   ],
   "source": [
    "function set_value!(node::SudokuNode, value::Int)::Node\n",
    "    node.value = value\n",
    "    return node\n",
    "end\n"
   ]
  },
  {
   "cell_type": "code",
   "execution_count": 24,
   "metadata": {},
   "outputs": [
    {
     "name": "stdout",
     "output_type": "stream",
     "text": [
      "  0.000612 seconds (9.97 k allocations: 625.781 KiB)\n",
      "elapsed time (ns): 611600\n",
      "bytes allocated:   640800\n",
      "pool allocs:       9972\n",
      "malloc() calls:    2\n",
      "realloc() calls:   1\n"
     ]
    }
   ],
   "source": [
    "@timev s = SudokuGraph(3);"
   ]
  },
  {
   "cell_type": "code",
   "execution_count": 25,
   "metadata": {},
   "outputs": [
    {
     "data": {
      "text/plain": [
       "810"
      ]
     },
     "execution_count": 25,
     "metadata": {},
     "output_type": "execute_result"
    }
   ],
   "source": [
    "length(s.edges)"
   ]
  },
  {
   "cell_type": "code",
   "execution_count": 26,
   "metadata": {},
   "outputs": [
    {
     "data": {
      "text/plain": [
       "81"
      ]
     },
     "execution_count": 26,
     "metadata": {},
     "output_type": "execute_result"
    }
   ],
   "source": [
    "length(s.nodes)"
   ]
  },
  {
   "cell_type": "code",
   "execution_count": 27,
   "metadata": {},
   "outputs": [
    {
     "data": {
      "text/plain": [
       "(SudokuNode((1, 1), 1, 0, Int64[]), SudokuNode((1, 2), 1, 0, Int64[]))"
      ]
     },
     "execution_count": 27,
     "metadata": {},
     "output_type": "execute_result"
    }
   ],
   "source": [
    "a,b = get_node.(((1,1),(1,2)), fill(s))"
   ]
  },
  {
   "cell_type": "code",
   "execution_count": 28,
   "metadata": {},
   "outputs": [
    {
     "name": "stdout",
     "output_type": "stream",
     "text": [
      "  0.000038 seconds (839 allocations: 92.391 KiB)\n"
     ]
    },
    {
     "data": {
      "text/plain": [
       "20-element Array{SudokuNode,1}:\n",
       " SudokuNode((2, 1), 1, 0, Int64[])\n",
       " SudokuNode((3, 1), 1, 0, Int64[])\n",
       " SudokuNode((4, 1), 4, 0, Int64[])\n",
       " SudokuNode((5, 1), 4, 0, Int64[])\n",
       " SudokuNode((6, 1), 4, 0, Int64[])\n",
       " SudokuNode((7, 1), 7, 0, Int64[])\n",
       " SudokuNode((8, 1), 7, 0, Int64[])\n",
       " SudokuNode((9, 1), 7, 0, Int64[])\n",
       " SudokuNode((1, 2), 1, 0, Int64[])\n",
       " SudokuNode((2, 2), 1, 0, Int64[])\n",
       " SudokuNode((3, 2), 1, 0, Int64[])\n",
       " SudokuNode((1, 3), 1, 0, Int64[])\n",
       " SudokuNode((2, 3), 1, 0, Int64[])\n",
       " SudokuNode((3, 3), 1, 0, Int64[])\n",
       " SudokuNode((1, 4), 2, 0, Int64[])\n",
       " SudokuNode((1, 5), 2, 0, Int64[])\n",
       " SudokuNode((1, 6), 2, 0, Int64[])\n",
       " SudokuNode((1, 7), 3, 0, Int64[])\n",
       " SudokuNode((1, 8), 3, 0, Int64[])\n",
       " SudokuNode((1, 9), 3, 0, Int64[])"
      ]
     },
     "execution_count": 28,
     "metadata": {},
     "output_type": "execute_result"
    }
   ],
   "source": [
    "@time get_neighbors(a, s)"
   ]
  },
  {
   "cell_type": "code",
   "execution_count": 29,
   "metadata": {},
   "outputs": [
    {
     "name": "stdout",
     "output_type": "stream",
     "text": [
      "  0.000057 seconds (846 allocations: 93.250 KiB)\n"
     ]
    },
    {
     "data": {
      "text/plain": [
       "0"
      ]
     },
     "execution_count": 29,
     "metadata": {},
     "output_type": "execute_result"
    }
   ],
   "source": [
    "@time get_saturation(a, s)"
   ]
  },
  {
   "cell_type": "code",
   "execution_count": 30,
   "metadata": {},
   "outputs": [
    {
     "data": {
      "text/plain": [
       "SudokuNode((1, 2), 1, 3, Int64[])"
      ]
     },
     "execution_count": 30,
     "metadata": {},
     "output_type": "execute_result"
    }
   ],
   "source": [
    "set_value!(b, 3)"
   ]
  },
  {
   "cell_type": "code",
   "execution_count": 31,
   "metadata": {},
   "outputs": [
    {
     "name": "stdout",
     "output_type": "stream",
     "text": [
      "  0.000135 seconds (847 allocations: 93.312 KiB)\n"
     ]
    },
    {
     "data": {
      "text/plain": [
       "1-element Array{Int64,1}:\n",
       " 3"
      ]
     },
     "execution_count": 31,
     "metadata": {},
     "output_type": "execute_result"
    }
   ],
   "source": [
    "@time get_saturated_values(a, s)"
   ]
  },
  {
   "cell_type": "code",
   "execution_count": 32,
   "metadata": {},
   "outputs": [
    {
     "name": "stdout",
     "output_type": "stream",
     "text": [
      "a = SudokuNode((1, 1), 1, 0, Int64[])\n"
     ]
    }
   ],
   "source": [
    "@show a;"
   ]
  },
  {
   "cell_type": "code",
   "execution_count": 33,
   "metadata": {},
   "outputs": [
    {
     "name": "stdout",
     "output_type": "stream",
     "text": [
      "  0.000047 seconds (850 allocations: 93.750 KiB)\n",
      "elapsed time (ns): 47400\n",
      "bytes allocated:   96000\n",
      "pool allocs:       849\n",
      "non-pool GC allocs:1\n"
     ]
    },
    {
     "data": {
      "text/plain": [
       "SudokuNode((1, 1), 1, 0, [1, 2, 4, 5, 6, 7, 8, 9])"
      ]
     },
     "execution_count": 33,
     "metadata": {},
     "output_type": "execute_result"
    }
   ],
   "source": [
    "@timev set_possible_values!(a, s)"
   ]
  },
  {
   "cell_type": "code",
   "execution_count": 34,
   "metadata": {},
   "outputs": [
    {
     "name": "stdout",
     "output_type": "stream",
     "text": [
      "a = SudokuNode((1, 1), 1, 0, [1, 2, 4, 5, 6, 7, 8, 9])\n"
     ]
    }
   ],
   "source": [
    "@show a;"
   ]
  }
 ],
 "metadata": {
  "kernelspec": {
   "display_name": "JuliaPro_v1.5.0-1 1.5.0",
   "language": "julia",
   "name": "juliapro_v1.5.0-1-1.5"
  },
  "language_info": {
   "file_extension": ".jl",
   "mimetype": "application/julia",
   "name": "julia",
   "version": "1.5.0"
  }
 },
 "nbformat": 4,
 "nbformat_minor": 4
}
