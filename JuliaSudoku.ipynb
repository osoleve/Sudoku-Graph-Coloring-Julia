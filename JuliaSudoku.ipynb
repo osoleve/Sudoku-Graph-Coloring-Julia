{
 "cells": [
  {
   "cell_type": "code",
   "execution_count": 34,
   "metadata": {
    "collapsed": true,
    "jupyter": {
     "outputs_hidden": true
    }
   },
   "outputs": [
    {
     "name": "stderr",
     "output_type": "stream",
     "text": [
      "\u001b[32m\u001b[1m   Updating\u001b[22m\u001b[39m registry at `C:\\Users\\Andy\\.julia\\registries\\General`\n",
      "\u001b[32m\u001b[1m   Updating\u001b[22m\u001b[39m registry at `C:\\Users\\Andy\\.julia\\registries\\JuliaComputingRegistry`\n",
      "\u001b[32m\u001b[1m  Resolving\u001b[22m\u001b[39m package versions...\n",
      "\u001b[32m\u001b[1m  Installed\u001b[22m\u001b[39m Memoize ─ v0.4.4\n",
      "\u001b[32m\u001b[1mUpdating\u001b[22m\u001b[39m `C:\\Users\\Andy\\.julia\\environments\\JuliaPro_v1.5.0-1\\Project.toml`\n",
      " \u001b[90m [c03570c3] \u001b[39m\u001b[92m+ Memoize v0.4.4\u001b[39m\n",
      "\u001b[32m\u001b[1mUpdating\u001b[22m\u001b[39m `C:\\Users\\Andy\\.julia\\environments\\JuliaPro_v1.5.0-1\\Manifest.toml`\n",
      " \u001b[90m [c03570c3] \u001b[39m\u001b[92m+ Memoize v0.4.4\u001b[39m\n"
     ]
    }
   ],
   "source": [
    "#Pkg.add(\"Combinatorics\")\n",
    "#Pkg.add(\"Pipe\")\n",
    "#Pkg.add(\"Lazy\")\n",
    "#Pkg.add(\"Memoize\")"
   ]
  },
  {
   "cell_type": "code",
   "execution_count": 1,
   "metadata": {},
   "outputs": [],
   "source": [
    "using Combinatorics\n",
    "using Lazy: map, filter, any, all, @as, @>, @>>\n",
    "using Base.Iterators: flatten, product\n",
    "using Memoize"
   ]
  },
  {
   "cell_type": "code",
   "execution_count": 2,
   "metadata": {},
   "outputs": [],
   "source": [
    "mutable struct Node\n",
    "    coordinates::Tuple{Int,Int}\n",
    "    cell::Int\n",
    "    value::Int\n",
    "    \n",
    "    possible_values::Vector{Int}\n",
    "    \n",
    "    function Node(coordinates::Tuple{Int,Int})\n",
    "        return new(coordinates,0,0,[])\n",
    "    end\n",
    "end"
   ]
  },
  {
   "cell_type": "code",
   "execution_count": 3,
   "metadata": {},
   "outputs": [
    {
     "data": {
      "text/plain": [
       "get_coordinates (generic function with 1 method)"
      ]
     },
     "execution_count": 3,
     "metadata": {},
     "output_type": "execute_result"
    }
   ],
   "source": [
    "function get_coordinates(node::Node)::Tuple{Int,Int,Int}\n",
    "    return (node.coordinates..., node.cell)\n",
    "end"
   ]
  },
  {
   "cell_type": "code",
   "execution_count": 4,
   "metadata": {},
   "outputs": [],
   "source": [
    "function Base.isequal(a::Node,b::Node)\n",
    "    a,b = get_coordinates.((a,b))\n",
    "    return all(a.==b)\n",
    "end"
   ]
  },
  {
   "cell_type": "code",
   "execution_count": 9,
   "metadata": {},
   "outputs": [
    {
     "data": {
      "text/plain": [
       "set_cell! (generic function with 1 method)"
      ]
     },
     "execution_count": 9,
     "metadata": {},
     "output_type": "execute_result"
    }
   ],
   "source": [
    "function set_cell!(node::Node, size::Int)::Node\n",
    "    row, col = node.coordinates .- 1\n",
    "    node.cell = 1 + floor(((col//size) + row) - (row%size))\n",
    "    return node\n",
    "end"
   ]
  },
  {
   "cell_type": "code",
   "execution_count": 10,
   "metadata": {},
   "outputs": [
    {
     "data": {
      "text/plain": [
       "get_value (generic function with 1 method)"
      ]
     },
     "execution_count": 10,
     "metadata": {},
     "output_type": "execute_result"
    }
   ],
   "source": [
    "function get_value(node::Node)::Int\n",
    "    return node.value\n",
    "end"
   ]
  },
  {
   "cell_type": "code",
   "execution_count": 11,
   "metadata": {},
   "outputs": [],
   "source": [
    "struct Edge\n",
    "    nodes::Tuple{Node,Node}\n",
    "    \n",
    "    function Edge(nodes::Vector{Node})\n",
    "        return new(tuple(nodes...))\n",
    "    end\n",
    "end"
   ]
  },
  {
   "cell_type": "code",
   "execution_count": 12,
   "metadata": {},
   "outputs": [
    {
     "data": {
      "text/plain": [
       "get_nodes (generic function with 2 methods)"
      ]
     },
     "execution_count": 12,
     "metadata": {},
     "output_type": "execute_result"
    }
   ],
   "source": [
    "function get_nodes(edge::Edge)::Vector{Node}\n",
    "    return collect(edge.nodes)\n",
    "end\n",
    "\n",
    "function get_nodes(edges::Array{Edge})::Vector{Node}\n",
    "    return map(get_nodes, edges)\n",
    "end"
   ]
  },
  {
   "cell_type": "code",
   "execution_count": 13,
   "metadata": {},
   "outputs": [
    {
     "data": {
      "text/plain": [
       "are_adjacent (generic function with 1 method)"
      ]
     },
     "execution_count": 13,
     "metadata": {},
     "output_type": "execute_result"
    }
   ],
   "source": [
    "function are_adjacent(edge::Edge)::Bool\n",
    "    a,b = get_coordinates.(edge.nodes)\n",
    "    return any(a .== b)\n",
    "end"
   ]
  },
  {
   "cell_type": "code",
   "execution_count": 14,
   "metadata": {},
   "outputs": [],
   "source": [
    "function Base.in(node::Node, edge::Edge)::Bool\n",
    "    return any(isequal.(fill(node), edge.nodes))\n",
    "end"
   ]
  },
  {
   "cell_type": "code",
   "execution_count": 15,
   "metadata": {},
   "outputs": [
    {
     "data": {
      "text/plain": [
       "nodes_to_edges (generic function with 1 method)"
      ]
     },
     "execution_count": 15,
     "metadata": {},
     "output_type": "execute_result"
    }
   ],
   "source": [
    "function nodes_to_edges(nodes::Vector{Node})::Vector{Edge}\n",
    "    return @>> begin\n",
    "        combinations(nodes,2) \n",
    "        map(Edge) \n",
    "        filter(are_adjacent)\n",
    "    end\n",
    "end"
   ]
  },
  {
   "cell_type": "code",
   "execution_count": 16,
   "metadata": {},
   "outputs": [
    {
     "data": {
      "text/plain": [
       "Base.Iterators.ProductIterator{Tuple{UnitRange{Int64},UnitRange{Int64}}}"
      ]
     },
     "execution_count": 16,
     "metadata": {},
     "output_type": "execute_result"
    }
   ],
   "source": [
    "typeof(Iterators.product(1:3,1:3))"
   ]
  },
  {
   "cell_type": "code",
   "execution_count": 17,
   "metadata": {},
   "outputs": [
    {
     "data": {
      "text/plain": [
       "UnitRange{Int64}"
      ]
     },
     "execution_count": 17,
     "metadata": {},
     "output_type": "execute_result"
    }
   ],
   "source": [
    "typeof(1:9)"
   ]
  },
  {
   "cell_type": "code",
   "execution_count": 18,
   "metadata": {},
   "outputs": [],
   "source": [
    "mutable struct SudokuGraph\n",
    "    nodes::Vector{Node}\n",
    "    edges::Vector{Edge}\n",
    "    \n",
    "    size::Int\n",
    "\n",
    "    function SudokuGraph(size::Int)        \n",
    "        #=\n",
    "        The node coordinates are (row, column, cell),\n",
    "        generated by creating the cartesian set of (row, col)\n",
    "        and then assigning the cell based on a formula.\n",
    "        =#\n",
    "        \n",
    "        nodes = @as x begin\n",
    "            1:size^2\n",
    "            product(x,x) \n",
    "            map(Node, x)\n",
    "            set_cell!.(x, size) \n",
    "            reshape(x, size^4)\n",
    "        end\n",
    "        \n",
    "        edges = nodes_to_edges(nodes)\n",
    "                \n",
    "        return new(nodes, edges, size)\n",
    "    end\n",
    "end"
   ]
  },
  {
   "cell_type": "code",
   "execution_count": 51,
   "metadata": {},
   "outputs": [
    {
     "data": {
      "text/plain": [
       "get_node (generic function with 1 method)"
      ]
     },
     "execution_count": 51,
     "metadata": {},
     "output_type": "execute_result"
    }
   ],
   "source": [
    "function get_node(coordinates::Tuple{Int,Int}, graph::SudokuGraph)::Node\n",
    "    return @>> begin \n",
    "        graph.nodes \n",
    "        filter(node -> node.coordinates == coordinates) \n",
    "        pop!\n",
    "    end\n",
    "end"
   ]
  },
  {
   "cell_type": "code",
   "execution_count": 20,
   "metadata": {},
   "outputs": [
    {
     "data": {
      "text/plain": [
       "get_neighbors (generic function with 1 method)"
      ]
     },
     "execution_count": 20,
     "metadata": {},
     "output_type": "execute_result"
    }
   ],
   "source": [
    "function get_neighbors(node::Node, graph::SudokuGraph)::Vector{Node}\n",
    "    return @>> graph.edges begin\n",
    "        filter(edge -> node in edge)\n",
    "        map(get_nodes)\n",
    "        flatten\n",
    "        collect\n",
    "        filter(x -> !isequal(node,x))\n",
    "    end\n",
    "end"
   ]
  },
  {
   "cell_type": "code",
   "execution_count": 21,
   "metadata": {},
   "outputs": [
    {
     "data": {
      "text/plain": [
       "get_saturated_values (generic function with 1 method)"
      ]
     },
     "execution_count": 21,
     "metadata": {},
     "output_type": "execute_result"
    }
   ],
   "source": [
    "function get_saturated_values(node::Node, graph::SudokuGraph)::Vector{Int}\n",
    "    return @>> begin\n",
    "        get_neighbors(node, graph)\n",
    "        filter(x -> x.value > 0)\n",
    "        get_value.()\n",
    "    end\n",
    "end"
   ]
  },
  {
   "cell_type": "code",
   "execution_count": 22,
   "metadata": {},
   "outputs": [
    {
     "data": {
      "text/plain": [
       "get_saturation (generic function with 1 method)"
      ]
     },
     "execution_count": 22,
     "metadata": {},
     "output_type": "execute_result"
    }
   ],
   "source": [
    "function get_saturation(node::Node, graph::SudokuGraph)::Int\n",
    "    return get_saturated_values(node, graph) |> length\n",
    "end"
   ]
  },
  {
   "cell_type": "code",
   "execution_count": 23,
   "metadata": {},
   "outputs": [
    {
     "data": {
      "text/plain": [
       "get_possible_values (generic function with 1 method)"
      ]
     },
     "execution_count": 23,
     "metadata": {},
     "output_type": "execute_result"
    }
   ],
   "source": [
    "function get_possible_values(node::Node, graph::SudokuGraph)::Vector{Int}\n",
    "    sv = get_saturated_values(node, graph)\n",
    "    return collect(filter(x->x ∉ sv, 1:graph.size^2))  \n",
    "end"
   ]
  },
  {
   "cell_type": "code",
   "execution_count": 24,
   "metadata": {},
   "outputs": [
    {
     "data": {
      "text/plain": [
       "set_possible_values! (generic function with 1 method)"
      ]
     },
     "execution_count": 24,
     "metadata": {},
     "output_type": "execute_result"
    }
   ],
   "source": [
    "function set_possible_values!(node::Node, graph::SudokuGraph)::Node\n",
    "    node.possible_values = get_possible_values(node, graph)\n",
    "    return node\n",
    "end"
   ]
  },
  {
   "cell_type": "code",
   "execution_count": 25,
   "metadata": {},
   "outputs": [
    {
     "data": {
      "text/plain": [
       "eliminate_possibility! (generic function with 1 method)"
      ]
     },
     "execution_count": 25,
     "metadata": {},
     "output_type": "execute_result"
    }
   ],
   "source": [
    "function eliminate_possibility!(node::Node, value::Int)::Node\n",
    "    if value in node.possible_values\n",
    "        pop!(node.possible_values, value)\n",
    "    end\n",
    "    return node\n",
    "end"
   ]
  },
  {
   "cell_type": "code",
   "execution_count": 35,
   "metadata": {},
   "outputs": [
    {
     "data": {
      "text/plain": [
       "set_value! (generic function with 1 method)"
      ]
     },
     "execution_count": 35,
     "metadata": {},
     "output_type": "execute_result"
    }
   ],
   "source": [
    "function set_value!(node::Node, value::Int)::Node\n",
    "    node.value = value\n",
    "    #eliminate_possibility!.(get_neighbors.(node), fill(value))\n",
    "    return node\n",
    "end\n"
   ]
  },
  {
   "cell_type": "code",
   "execution_count": 36,
   "metadata": {},
   "outputs": [
    {
     "name": "stdout",
     "output_type": "stream",
     "text": [
      "  0.001397 seconds (9.97 k allocations: 625.750 KiB)\n",
      "elapsed time (ns): 1396600\n",
      "bytes allocated:   640768\n",
      "pool allocs:       9971\n",
      "malloc() calls:    2\n",
      "realloc() calls:   1\n"
     ]
    }
   ],
   "source": [
    "@timev s = SudokuGraph(3);"
   ]
  },
  {
   "cell_type": "code",
   "execution_count": 37,
   "metadata": {},
   "outputs": [
    {
     "data": {
      "text/plain": [
       "810"
      ]
     },
     "execution_count": 37,
     "metadata": {},
     "output_type": "execute_result"
    }
   ],
   "source": [
    "length(s.edges)"
   ]
  },
  {
   "cell_type": "code",
   "execution_count": 38,
   "metadata": {},
   "outputs": [
    {
     "data": {
      "text/plain": [
       "81"
      ]
     },
     "execution_count": 38,
     "metadata": {},
     "output_type": "execute_result"
    }
   ],
   "source": [
    "length(s.nodes)"
   ]
  },
  {
   "cell_type": "code",
   "execution_count": 39,
   "metadata": {},
   "outputs": [
    {
     "data": {
      "text/plain": [
       "(Node((1, 1), 1, 0, Int64[]), Node((1, 2), 1, 0, Int64[]))"
      ]
     },
     "execution_count": 39,
     "metadata": {},
     "output_type": "execute_result"
    }
   ],
   "source": [
    "a,b = set_cell!.(Node.(((1,1),(1,2))),3)"
   ]
  },
  {
   "cell_type": "code",
   "execution_count": 40,
   "metadata": {},
   "outputs": [
    {
     "name": "stdout",
     "output_type": "stream",
     "text": [
      "  0.000039 seconds (839 allocations: 92.391 KiB)\n",
      "elapsed time (ns): 38700\n",
      "bytes allocated:   94608\n",
      "pool allocs:       838\n",
      "non-pool GC allocs:1\n"
     ]
    }
   ],
   "source": [
    "@timev get_neighbors(a, s);"
   ]
  },
  {
   "cell_type": "code",
   "execution_count": 41,
   "metadata": {},
   "outputs": [
    {
     "name": "stdout",
     "output_type": "stream",
     "text": [
      "  0.000073 seconds (841 allocations: 92.703 KiB)\n"
     ]
    },
    {
     "data": {
      "text/plain": [
       "0"
      ]
     },
     "execution_count": 41,
     "metadata": {},
     "output_type": "execute_result"
    }
   ],
   "source": [
    "@time get_saturation(a, s)"
   ]
  },
  {
   "cell_type": "code",
   "execution_count": 52,
   "metadata": {},
   "outputs": [
    {
     "data": {
      "text/plain": [
       "Node((5, 1), 4, 3, Int64[])"
      ]
     },
     "execution_count": 52,
     "metadata": {},
     "output_type": "execute_result"
    }
   ],
   "source": [
    "set_value!(get_node((5,1), s), 3)"
   ]
  },
  {
   "cell_type": "code",
   "execution_count": 53,
   "metadata": {},
   "outputs": [
    {
     "name": "stdout",
     "output_type": "stream",
     "text": [
      "  0.000041 seconds (841 allocations: 92.719 KiB)\n",
      "elapsed time (ns): 40601\n",
      "bytes allocated:   94944\n",
      "pool allocs:       840\n",
      "non-pool GC allocs:1\n"
     ]
    },
    {
     "data": {
      "text/plain": [
       "1-element Array{Int64,1}:\n",
       " 3"
      ]
     },
     "execution_count": 53,
     "metadata": {},
     "output_type": "execute_result"
    }
   ],
   "source": [
    "@timev get_saturated_values(a, s)"
   ]
  },
  {
   "cell_type": "code",
   "execution_count": 54,
   "metadata": {},
   "outputs": [
    {
     "name": "stdout",
     "output_type": "stream",
     "text": [
      "a = Node((1, 1), 1, 0, [1, 2, 4, 5, 6, 7, 8, 9])\n"
     ]
    },
    {
     "data": {
      "text/plain": [
       "Node((1, 1), 1, 0, [1, 2, 4, 5, 6, 7, 8, 9])"
      ]
     },
     "execution_count": 54,
     "metadata": {},
     "output_type": "execute_result"
    }
   ],
   "source": [
    "@show a"
   ]
  },
  {
   "cell_type": "code",
   "execution_count": 44,
   "metadata": {},
   "outputs": [
    {
     "name": "stdout",
     "output_type": "stream",
     "text": [
      "  0.000042 seconds (844 allocations: 93.156 KiB)\n",
      "elapsed time (ns): 42100\n",
      "bytes allocated:   95392\n",
      "pool allocs:       843\n",
      "non-pool GC allocs:1\n"
     ]
    },
    {
     "data": {
      "text/plain": [
       "Node((1, 1), 1, 0, [1, 2, 4, 5, 6, 7, 8, 9])"
      ]
     },
     "execution_count": 44,
     "metadata": {},
     "output_type": "execute_result"
    }
   ],
   "source": [
    "@timev set_possible_values!(a, s)"
   ]
  },
  {
   "cell_type": "code",
   "execution_count": 46,
   "metadata": {},
   "outputs": [
    {
     "data": {
      "text/plain": [
       "Node((1, 1), 1, 0, [1, 2, 4, 5, 6, 7, 8, 9])"
      ]
     },
     "execution_count": 46,
     "metadata": {},
     "output_type": "execute_result"
    }
   ],
   "source": [
    "a"
   ]
  }
 ],
 "metadata": {
  "kernelspec": {
   "display_name": "JuliaPro_v1.5.0-1 1.5.0",
   "language": "julia",
   "name": "juliapro_v1.5.0-1-1.5"
  },
  "language_info": {
   "file_extension": ".jl",
   "mimetype": "application/julia",
   "name": "julia",
   "version": "1.5.0"
  }
 },
 "nbformat": 4,
 "nbformat_minor": 4
}
